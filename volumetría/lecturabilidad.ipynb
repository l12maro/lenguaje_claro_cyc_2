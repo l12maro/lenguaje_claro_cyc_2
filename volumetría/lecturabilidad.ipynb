{
  "cells": [
    {
      "cell_type": "markdown",
      "metadata": {
        "id": "view-in-github",
        "colab_type": "text"
      },
      "source": [
        "<a href=\"https://colab.research.google.com/github/l12maro/lenguaje_claro_cyc_2/blob/main/volumetr%C3%ADa/lecturabilidad.ipynb\" target=\"_parent\"><img src=\"https://colab.research.google.com/assets/colab-badge.svg\" alt=\"Open In Colab\"/></a>"
      ]
    },
    {
      "cell_type": "markdown",
      "metadata": {
        "formattedRanges": [],
        "deepnote_app_coordinates": {
          "h": 5,
          "w": 12,
          "x": 0,
          "y": 0
        },
        "cell_id": "9b8ffa3724a24c52bd30b96a178600cc",
        "deepnote_cell_type": "text-cell-h1",
        "id": "DUfDUmmWdOWW"
      },
      "source": [
        "# Cálculo de lecturabilidad de un sitio web"
      ]
    },
    {
      "cell_type": "markdown",
      "metadata": {
        "formattedRanges": [
          {
            "url": "https://legible.es/blog/lecturabilidad-fernandez-huerta/",
            "type": "link",
            "ranges": [],
            "toCodePoint": 134,
            "fromCodePoint": 118
          }
        ],
        "deepnote_app_coordinates": {
          "h": 2,
          "w": 8,
          "x": 0,
          "y": 0
        },
        "cell_id": "c96134ba33da4a7381df19ea1d0f932c",
        "deepnote_cell_type": "text-cell-p",
        "id": "414y4onndOWZ"
      },
      "source": [
        "Con este código vamos a bajarnos el texto de un sitio web y a calcular su lecturabilidad de acuerdo con la fórmula de Fernández Huerta."
      ]
    },
    {
      "cell_type": "code",
      "source": [
        "!pip install textstat"
      ],
      "metadata": {
        "id": "ZmxSvk45fGon",
        "outputId": "eca14634-7698-4ec9-889f-4d05e0d17c73",
        "colab": {
          "base_uri": "https://localhost:8080/"
        }
      },
      "execution_count": null,
      "outputs": [
        {
          "output_type": "stream",
          "name": "stdout",
          "text": [
            "Requirement already satisfied: textstat in /usr/local/lib/python3.10/dist-packages (0.7.4)\n",
            "Requirement already satisfied: pyphen in /usr/local/lib/python3.10/dist-packages (from textstat) (0.16.0)\n",
            "Requirement already satisfied: setuptools in /usr/local/lib/python3.10/dist-packages (from textstat) (71.0.4)\n"
          ]
        }
      ]
    },
    {
      "cell_type": "code",
      "metadata": {
        "source_hash": null,
        "execution_start": 1699445200178,
        "execution_millis": 8,
        "deepnote_app_coordinates": {
          "h": 5,
          "w": 12,
          "x": 0,
          "y": 0
        },
        "deepnote_to_be_reexecuted": false,
        "deepnote_app_is_code_hidden": false,
        "deepnote_app_is_output_hidden": false,
        "cell_id": "d59809ed97c446e18d1fc74f802bf9a3",
        "deepnote_cell_type": "code",
        "id": "kpS8qvMIdOWa"
      },
      "source": [
        "#Importamos las librerías\n",
        "import requests\n",
        "from bs4 import BeautifulSoup\n",
        "import pandas as pd\n",
        "import textstat\n",
        "import re"
      ],
      "execution_count": null,
      "outputs": []
    },
    {
      "cell_type": "code",
      "metadata": {
        "source_hash": null,
        "execution_start": 1699445119074,
        "execution_millis": 81107,
        "deepnote_app_coordinates": {
          "h": 5,
          "w": 12,
          "x": 0,
          "y": 0
        },
        "deepnote_to_be_reexecuted": false,
        "deepnote_app_is_code_hidden": false,
        "cell_id": "30f7f5cb298f43d0ad9c69912ca2d492",
        "deepnote_cell_type": "code",
        "id": "CKrB9RjbdOWb"
      },
      "source": [
        "url = 'https://www.huelva.es/' #indicamos la URL de la que queremos extraer textos"
      ],
      "execution_count": null,
      "outputs": []
    },
    {
      "cell_type": "code",
      "source": [
        "def clean_text(text):\n",
        "  \"\"\"\n",
        "  This function takes a text and does some precleaning like removing double spaces or line breaks.\n",
        "  \"\"\"\n",
        "  if text:\n",
        "    text = re.sub('[ +|\\n|\\t]', ' ', text) # remove double spaces\n",
        "    text = text.encode('utf-8').decode('utf-8')\n",
        "  return text"
      ],
      "metadata": {
        "id": "GF_Zdbe9tfQq"
      },
      "execution_count": null,
      "outputs": []
    },
    {
      "cell_type": "code",
      "metadata": {
        "source_hash": null,
        "execution_start": 1699306544885,
        "execution_millis": 6894,
        "deepnote_app_coordinates": {
          "h": 5,
          "w": 12,
          "x": 0,
          "y": 0
        },
        "deepnote_to_be_reexecuted": false,
        "deepnote_app_is_code_hidden": false,
        "cell_id": "c32a4a87bcaf46759e56ae6400be6b8a",
        "deepnote_cell_type": "code",
        "id": "bSbq7FVAdOWc",
        "outputId": "ffd2e456-6077-4b8f-fc90-c06000b8edc4",
        "colab": {
          "base_uri": "https://localhost:8080/"
        }
      },
      "source": [
        "#Descargamos los textos y los guardamos en una tabla\n",
        "\n",
        "response = requests.get(url)\n",
        "\n",
        "# Use verify=False to override SSL certificate error if you trust the page\n",
        "#response = requests.get(url, verify=False)\n",
        "soup = BeautifulSoup(response.content, 'html.parser')\n",
        "\n",
        "# Extracting all the links from the page\n",
        "links = []\n",
        "for link in soup.find_all('a'):\n",
        "    links.append(link.get('href'))\n",
        "\n",
        "texts = []\n",
        "for link in links[0:10]: #ponemos un índice para probar con los 10 primeros enlaces. Podemos quitarlo luego para descargar el sitio completo.\n",
        "    if link is not None:# and link.startswith(\"/\"):\n",
        "        full_url = url + link\n",
        "        response = requests.get(full_url)\n",
        "        # Use verify=False to override SSL certificate error if you trust the page\n",
        "        # response = requests.get(full_url, verify=False)\n",
        "\n",
        "        # Skip non successful status code\n",
        "        if response.status_code == 200: # Check if the response was successful (status code 200)\n",
        "          soup = BeautifulSoup(response.content, 'html.parser')\n",
        "          # Extracting all the text from the page\n",
        "          text = soup.get_text()\n",
        "          text = clean_text(text)\n",
        "          if text:\n",
        "              texts.append(text)\n",
        "          #else:\n",
        "          #    texts.append(\"\")  # add empty string when no text is found\n",
        "\n",
        "df = pd.DataFrame()\n",
        "df['links'] = pd.Series(links)\n",
        "df['texts'] = pd.Series(texts)"
      ],
      "execution_count": null,
      "outputs": [
        {
          "output_type": "stream",
          "name": "stderr",
          "text": [
            "/usr/local/lib/python3.10/dist-packages/urllib3/connectionpool.py:1100: InsecureRequestWarning: Unverified HTTPS request is being made to host 'www.huelva.es'. Adding certificate verification is strongly advised. See: https://urllib3.readthedocs.io/en/latest/advanced-usage.html#tls-warnings\n",
            "  warnings.warn(\n",
            "/usr/local/lib/python3.10/dist-packages/urllib3/connectionpool.py:1100: InsecureRequestWarning: Unverified HTTPS request is being made to host 'www.huelva.es'. Adding certificate verification is strongly advised. See: https://urllib3.readthedocs.io/en/latest/advanced-usage.html#tls-warnings\n",
            "  warnings.warn(\n",
            "/usr/local/lib/python3.10/dist-packages/urllib3/connectionpool.py:1100: InsecureRequestWarning: Unverified HTTPS request is being made to host 'www.huelva.es'. Adding certificate verification is strongly advised. See: https://urllib3.readthedocs.io/en/latest/advanced-usage.html#tls-warnings\n",
            "  warnings.warn(\n",
            "/usr/local/lib/python3.10/dist-packages/urllib3/connectionpool.py:1100: InsecureRequestWarning: Unverified HTTPS request is being made to host 'www.huelva.es'. Adding certificate verification is strongly advised. See: https://urllib3.readthedocs.io/en/latest/advanced-usage.html#tls-warnings\n",
            "  warnings.warn(\n",
            "/usr/local/lib/python3.10/dist-packages/urllib3/connectionpool.py:1100: InsecureRequestWarning: Unverified HTTPS request is being made to host 'www.huelva.es'. Adding certificate verification is strongly advised. See: https://urllib3.readthedocs.io/en/latest/advanced-usage.html#tls-warnings\n",
            "  warnings.warn(\n",
            "/usr/local/lib/python3.10/dist-packages/urllib3/connectionpool.py:1100: InsecureRequestWarning: Unverified HTTPS request is being made to host 'www.huelva.es'. Adding certificate verification is strongly advised. See: https://urllib3.readthedocs.io/en/latest/advanced-usage.html#tls-warnings\n",
            "  warnings.warn(\n",
            "/usr/local/lib/python3.10/dist-packages/urllib3/connectionpool.py:1100: InsecureRequestWarning: Unverified HTTPS request is being made to host 'www.huelva.es'. Adding certificate verification is strongly advised. See: https://urllib3.readthedocs.io/en/latest/advanced-usage.html#tls-warnings\n",
            "  warnings.warn(\n",
            "/usr/local/lib/python3.10/dist-packages/urllib3/connectionpool.py:1100: InsecureRequestWarning: Unverified HTTPS request is being made to host 'www.huelva.es'. Adding certificate verification is strongly advised. See: https://urllib3.readthedocs.io/en/latest/advanced-usage.html#tls-warnings\n",
            "  warnings.warn(\n",
            "/usr/local/lib/python3.10/dist-packages/urllib3/connectionpool.py:1100: InsecureRequestWarning: Unverified HTTPS request is being made to host 'www.huelva.es'. Adding certificate verification is strongly advised. See: https://urllib3.readthedocs.io/en/latest/advanced-usage.html#tls-warnings\n",
            "  warnings.warn(\n",
            "/usr/local/lib/python3.10/dist-packages/urllib3/connectionpool.py:1100: InsecureRequestWarning: Unverified HTTPS request is being made to host 'www.huelva.es'. Adding certificate verification is strongly advised. See: https://urllib3.readthedocs.io/en/latest/advanced-usage.html#tls-warnings\n",
            "  warnings.warn(\n",
            "/usr/local/lib/python3.10/dist-packages/urllib3/connectionpool.py:1100: InsecureRequestWarning: Unverified HTTPS request is being made to host 'www.huelva.es'. Adding certificate verification is strongly advised. See: https://urllib3.readthedocs.io/en/latest/advanced-usage.html#tls-warnings\n",
            "  warnings.warn(\n"
          ]
        }
      ]
    },
    {
      "cell_type": "code",
      "metadata": {
        "source_hash": null,
        "execution_start": 1699302771119,
        "execution_millis": 125,
        "deepnote_app_coordinates": {
          "h": 5,
          "w": 12,
          "x": 0,
          "y": 0
        },
        "deepnote_to_be_reexecuted": false,
        "deepnote_app_is_code_hidden": false,
        "cell_id": "8d4973ad4818414883be9eb46471a5d2",
        "deepnote_cell_type": "code",
        "id": "2mEUvR_QdOWd"
      },
      "source": [
        "df = df.dropna() #eliminamos filas vacías"
      ],
      "execution_count": null,
      "outputs": []
    },
    {
      "cell_type": "code",
      "metadata": {
        "source_hash": null,
        "execution_start": 1699305794433,
        "execution_millis": 51,
        "deepnote_table_state": {
          "sortBy": [
            {
              "id": "links",
              "type": "desc"
            }
          ],
          "filters": [],
          "pageSize": 100,
          "pageIndex": 0
        },
        "deepnote_table_loading": false,
        "deepnote_app_coordinates": {
          "h": 5,
          "w": 12,
          "x": 0,
          "y": 0
        },
        "deepnote_to_be_reexecuted": false,
        "deepnote_app_is_code_hidden": false,
        "cell_id": "c6233c1833524ce682a25804c7148390",
        "deepnote_cell_type": "code",
        "id": "ggwuA2IPdOWd",
        "outputId": "bfea5c77-fbd2-4f49-841b-07fd8c0495c3",
        "colab": {
          "base_uri": "https://localhost:8080/",
          "height": 397
        }
      },
      "source": [
        "#Calculamos número de oraciones por página y lecturabilidad\n",
        "df['num oraciones'] = df['texts'].astype(str).apply(lambda x: textstat.sentence_count(x) if x else 0)\n",
        "df['num palabras'] = df['texts'].astype(str).apply(lambda x: textstat.lexicon_count(x, removepunct=True) if x else 0)\n",
        "df['palabras/oración'] = df['num palabras'].divide(df['num oraciones'])\n",
        "df['fdz huerta'] = df['texts'].astype(str).apply(lambda x: textstat.fernandez_huerta(x) if x else 0)\n",
        "df['tiempo lectura'] = df['texts'].astype(str).apply(lambda x: textstat.reading_time(x, ms_per_char=14.69) if x else 0)\n",
        "df.head()\n"
      ],
      "execution_count": null,
      "outputs": [
        {
          "output_type": "execute_result",
          "data": {
            "text/plain": [
              "                            links  \\\n",
              "0                   #main-content   \n",
              "1                      /portal/es   \n",
              "2          https://sede.huelva.es   \n",
              "3        http://turismo.huelva.es   \n",
              "4  /portal/es/paginas/formularios   \n",
              "\n",
              "                                               texts  num oraciones  \\\n",
              "0                Portada   Ayuntamiento de Huelva...              9   \n",
              "1                Portada   Ayuntamiento de Huelva...              9   \n",
              "2                Formularios   Ayuntamiento de Hu...             16   \n",
              "3                ¿Te podemos ayudar?   Ayuntamien...             17   \n",
              "4                Alcaldesa   Ayuntamiento de Huel...             10   \n",
              "\n",
              "   num palabras  palabras/oración  fdz huerta  tiempo lectura  \n",
              "0           400         44.444444       47.55           34.43  \n",
              "1           400         44.444444       47.55           34.43  \n",
              "2           388         24.250000       62.05           36.21  \n",
              "3           436         25.647059       66.73           39.38  \n",
              "4           387         38.700000       53.37           33.67  "
            ],
            "text/html": [
              "\n",
              "  <div id=\"df-68e68dca-6893-4c16-af32-e85dc185309f\" class=\"colab-df-container\">\n",
              "    <div>\n",
              "<style scoped>\n",
              "    .dataframe tbody tr th:only-of-type {\n",
              "        vertical-align: middle;\n",
              "    }\n",
              "\n",
              "    .dataframe tbody tr th {\n",
              "        vertical-align: top;\n",
              "    }\n",
              "\n",
              "    .dataframe thead th {\n",
              "        text-align: right;\n",
              "    }\n",
              "</style>\n",
              "<table border=\"1\" class=\"dataframe\">\n",
              "  <thead>\n",
              "    <tr style=\"text-align: right;\">\n",
              "      <th></th>\n",
              "      <th>links</th>\n",
              "      <th>texts</th>\n",
              "      <th>num oraciones</th>\n",
              "      <th>num palabras</th>\n",
              "      <th>palabras/oración</th>\n",
              "      <th>fdz huerta</th>\n",
              "      <th>tiempo lectura</th>\n",
              "    </tr>\n",
              "  </thead>\n",
              "  <tbody>\n",
              "    <tr>\n",
              "      <th>0</th>\n",
              "      <td>#main-content</td>\n",
              "      <td>Portada   Ayuntamiento de Huelva...</td>\n",
              "      <td>9</td>\n",
              "      <td>400</td>\n",
              "      <td>44.444444</td>\n",
              "      <td>47.55</td>\n",
              "      <td>34.43</td>\n",
              "    </tr>\n",
              "    <tr>\n",
              "      <th>1</th>\n",
              "      <td>/portal/es</td>\n",
              "      <td>Portada   Ayuntamiento de Huelva...</td>\n",
              "      <td>9</td>\n",
              "      <td>400</td>\n",
              "      <td>44.444444</td>\n",
              "      <td>47.55</td>\n",
              "      <td>34.43</td>\n",
              "    </tr>\n",
              "    <tr>\n",
              "      <th>2</th>\n",
              "      <td>https://sede.huelva.es</td>\n",
              "      <td>Formularios   Ayuntamiento de Hu...</td>\n",
              "      <td>16</td>\n",
              "      <td>388</td>\n",
              "      <td>24.250000</td>\n",
              "      <td>62.05</td>\n",
              "      <td>36.21</td>\n",
              "    </tr>\n",
              "    <tr>\n",
              "      <th>3</th>\n",
              "      <td>http://turismo.huelva.es</td>\n",
              "      <td>¿Te podemos ayudar?   Ayuntamien...</td>\n",
              "      <td>17</td>\n",
              "      <td>436</td>\n",
              "      <td>25.647059</td>\n",
              "      <td>66.73</td>\n",
              "      <td>39.38</td>\n",
              "    </tr>\n",
              "    <tr>\n",
              "      <th>4</th>\n",
              "      <td>/portal/es/paginas/formularios</td>\n",
              "      <td>Alcaldesa   Ayuntamiento de Huel...</td>\n",
              "      <td>10</td>\n",
              "      <td>387</td>\n",
              "      <td>38.700000</td>\n",
              "      <td>53.37</td>\n",
              "      <td>33.67</td>\n",
              "    </tr>\n",
              "  </tbody>\n",
              "</table>\n",
              "</div>\n",
              "    <div class=\"colab-df-buttons\">\n",
              "\n",
              "  <div class=\"colab-df-container\">\n",
              "    <button class=\"colab-df-convert\" onclick=\"convertToInteractive('df-68e68dca-6893-4c16-af32-e85dc185309f')\"\n",
              "            title=\"Convert this dataframe to an interactive table.\"\n",
              "            style=\"display:none;\">\n",
              "\n",
              "  <svg xmlns=\"http://www.w3.org/2000/svg\" height=\"24px\" viewBox=\"0 -960 960 960\">\n",
              "    <path d=\"M120-120v-720h720v720H120Zm60-500h600v-160H180v160Zm220 220h160v-160H400v160Zm0 220h160v-160H400v160ZM180-400h160v-160H180v160Zm440 0h160v-160H620v160ZM180-180h160v-160H180v160Zm440 0h160v-160H620v160Z\"/>\n",
              "  </svg>\n",
              "    </button>\n",
              "\n",
              "  <style>\n",
              "    .colab-df-container {\n",
              "      display:flex;\n",
              "      gap: 12px;\n",
              "    }\n",
              "\n",
              "    .colab-df-convert {\n",
              "      background-color: #E8F0FE;\n",
              "      border: none;\n",
              "      border-radius: 50%;\n",
              "      cursor: pointer;\n",
              "      display: none;\n",
              "      fill: #1967D2;\n",
              "      height: 32px;\n",
              "      padding: 0 0 0 0;\n",
              "      width: 32px;\n",
              "    }\n",
              "\n",
              "    .colab-df-convert:hover {\n",
              "      background-color: #E2EBFA;\n",
              "      box-shadow: 0px 1px 2px rgba(60, 64, 67, 0.3), 0px 1px 3px 1px rgba(60, 64, 67, 0.15);\n",
              "      fill: #174EA6;\n",
              "    }\n",
              "\n",
              "    .colab-df-buttons div {\n",
              "      margin-bottom: 4px;\n",
              "    }\n",
              "\n",
              "    [theme=dark] .colab-df-convert {\n",
              "      background-color: #3B4455;\n",
              "      fill: #D2E3FC;\n",
              "    }\n",
              "\n",
              "    [theme=dark] .colab-df-convert:hover {\n",
              "      background-color: #434B5C;\n",
              "      box-shadow: 0px 1px 3px 1px rgba(0, 0, 0, 0.15);\n",
              "      filter: drop-shadow(0px 1px 2px rgba(0, 0, 0, 0.3));\n",
              "      fill: #FFFFFF;\n",
              "    }\n",
              "  </style>\n",
              "\n",
              "    <script>\n",
              "      const buttonEl =\n",
              "        document.querySelector('#df-68e68dca-6893-4c16-af32-e85dc185309f button.colab-df-convert');\n",
              "      buttonEl.style.display =\n",
              "        google.colab.kernel.accessAllowed ? 'block' : 'none';\n",
              "\n",
              "      async function convertToInteractive(key) {\n",
              "        const element = document.querySelector('#df-68e68dca-6893-4c16-af32-e85dc185309f');\n",
              "        const dataTable =\n",
              "          await google.colab.kernel.invokeFunction('convertToInteractive',\n",
              "                                                    [key], {});\n",
              "        if (!dataTable) return;\n",
              "\n",
              "        const docLinkHtml = 'Like what you see? Visit the ' +\n",
              "          '<a target=\"_blank\" href=https://colab.research.google.com/notebooks/data_table.ipynb>data table notebook</a>'\n",
              "          + ' to learn more about interactive tables.';\n",
              "        element.innerHTML = '';\n",
              "        dataTable['output_type'] = 'display_data';\n",
              "        await google.colab.output.renderOutput(dataTable, element);\n",
              "        const docLink = document.createElement('div');\n",
              "        docLink.innerHTML = docLinkHtml;\n",
              "        element.appendChild(docLink);\n",
              "      }\n",
              "    </script>\n",
              "  </div>\n",
              "\n",
              "\n",
              "<div id=\"df-8f27cd93-9405-43c9-89a9-89e871e36950\">\n",
              "  <button class=\"colab-df-quickchart\" onclick=\"quickchart('df-8f27cd93-9405-43c9-89a9-89e871e36950')\"\n",
              "            title=\"Suggest charts\"\n",
              "            style=\"display:none;\">\n",
              "\n",
              "<svg xmlns=\"http://www.w3.org/2000/svg\" height=\"24px\"viewBox=\"0 0 24 24\"\n",
              "     width=\"24px\">\n",
              "    <g>\n",
              "        <path d=\"M19 3H5c-1.1 0-2 .9-2 2v14c0 1.1.9 2 2 2h14c1.1 0 2-.9 2-2V5c0-1.1-.9-2-2-2zM9 17H7v-7h2v7zm4 0h-2V7h2v10zm4 0h-2v-4h2v4z\"/>\n",
              "    </g>\n",
              "</svg>\n",
              "  </button>\n",
              "\n",
              "<style>\n",
              "  .colab-df-quickchart {\n",
              "      --bg-color: #E8F0FE;\n",
              "      --fill-color: #1967D2;\n",
              "      --hover-bg-color: #E2EBFA;\n",
              "      --hover-fill-color: #174EA6;\n",
              "      --disabled-fill-color: #AAA;\n",
              "      --disabled-bg-color: #DDD;\n",
              "  }\n",
              "\n",
              "  [theme=dark] .colab-df-quickchart {\n",
              "      --bg-color: #3B4455;\n",
              "      --fill-color: #D2E3FC;\n",
              "      --hover-bg-color: #434B5C;\n",
              "      --hover-fill-color: #FFFFFF;\n",
              "      --disabled-bg-color: #3B4455;\n",
              "      --disabled-fill-color: #666;\n",
              "  }\n",
              "\n",
              "  .colab-df-quickchart {\n",
              "    background-color: var(--bg-color);\n",
              "    border: none;\n",
              "    border-radius: 50%;\n",
              "    cursor: pointer;\n",
              "    display: none;\n",
              "    fill: var(--fill-color);\n",
              "    height: 32px;\n",
              "    padding: 0;\n",
              "    width: 32px;\n",
              "  }\n",
              "\n",
              "  .colab-df-quickchart:hover {\n",
              "    background-color: var(--hover-bg-color);\n",
              "    box-shadow: 0 1px 2px rgba(60, 64, 67, 0.3), 0 1px 3px 1px rgba(60, 64, 67, 0.15);\n",
              "    fill: var(--button-hover-fill-color);\n",
              "  }\n",
              "\n",
              "  .colab-df-quickchart-complete:disabled,\n",
              "  .colab-df-quickchart-complete:disabled:hover {\n",
              "    background-color: var(--disabled-bg-color);\n",
              "    fill: var(--disabled-fill-color);\n",
              "    box-shadow: none;\n",
              "  }\n",
              "\n",
              "  .colab-df-spinner {\n",
              "    border: 2px solid var(--fill-color);\n",
              "    border-color: transparent;\n",
              "    border-bottom-color: var(--fill-color);\n",
              "    animation:\n",
              "      spin 1s steps(1) infinite;\n",
              "  }\n",
              "\n",
              "  @keyframes spin {\n",
              "    0% {\n",
              "      border-color: transparent;\n",
              "      border-bottom-color: var(--fill-color);\n",
              "      border-left-color: var(--fill-color);\n",
              "    }\n",
              "    20% {\n",
              "      border-color: transparent;\n",
              "      border-left-color: var(--fill-color);\n",
              "      border-top-color: var(--fill-color);\n",
              "    }\n",
              "    30% {\n",
              "      border-color: transparent;\n",
              "      border-left-color: var(--fill-color);\n",
              "      border-top-color: var(--fill-color);\n",
              "      border-right-color: var(--fill-color);\n",
              "    }\n",
              "    40% {\n",
              "      border-color: transparent;\n",
              "      border-right-color: var(--fill-color);\n",
              "      border-top-color: var(--fill-color);\n",
              "    }\n",
              "    60% {\n",
              "      border-color: transparent;\n",
              "      border-right-color: var(--fill-color);\n",
              "    }\n",
              "    80% {\n",
              "      border-color: transparent;\n",
              "      border-right-color: var(--fill-color);\n",
              "      border-bottom-color: var(--fill-color);\n",
              "    }\n",
              "    90% {\n",
              "      border-color: transparent;\n",
              "      border-bottom-color: var(--fill-color);\n",
              "    }\n",
              "  }\n",
              "</style>\n",
              "\n",
              "  <script>\n",
              "    async function quickchart(key) {\n",
              "      const quickchartButtonEl =\n",
              "        document.querySelector('#' + key + ' button');\n",
              "      quickchartButtonEl.disabled = true;  // To prevent multiple clicks.\n",
              "      quickchartButtonEl.classList.add('colab-df-spinner');\n",
              "      try {\n",
              "        const charts = await google.colab.kernel.invokeFunction(\n",
              "            'suggestCharts', [key], {});\n",
              "      } catch (error) {\n",
              "        console.error('Error during call to suggestCharts:', error);\n",
              "      }\n",
              "      quickchartButtonEl.classList.remove('colab-df-spinner');\n",
              "      quickchartButtonEl.classList.add('colab-df-quickchart-complete');\n",
              "    }\n",
              "    (() => {\n",
              "      let quickchartButtonEl =\n",
              "        document.querySelector('#df-8f27cd93-9405-43c9-89a9-89e871e36950 button');\n",
              "      quickchartButtonEl.style.display =\n",
              "        google.colab.kernel.accessAllowed ? 'block' : 'none';\n",
              "    })();\n",
              "  </script>\n",
              "</div>\n",
              "\n",
              "    </div>\n",
              "  </div>\n"
            ],
            "application/vnd.google.colaboratory.intrinsic+json": {
              "type": "dataframe",
              "variable_name": "df",
              "summary": "{\n  \"name\": \"df\",\n  \"rows\": 6,\n  \"fields\": [\n    {\n      \"column\": \"links\",\n      \"properties\": {\n        \"dtype\": \"string\",\n        \"num_unique_values\": 6,\n        \"samples\": [\n          \"#main-content\",\n          \"/portal/es\",\n          \"http://www.huelva.es/portal/lista-telefonos\"\n        ],\n        \"semantic_type\": \"\",\n        \"description\": \"\"\n      }\n    },\n    {\n      \"column\": \"texts\",\n      \"properties\": {\n        \"dtype\": \"string\",\n        \"num_unique_values\": 5,\n        \"samples\": [\n          \"              Formularios   Ayuntamiento de Huelva                                    Saltar al contenido principal        Toggle navigation                Ayuntamiento   Servicios Municipales   Sede Electr\\u00f3nica   Turismo   Formularios        telefonos    buzon                                      Ayuntamiento                        Alcaldesa   El Pleno   Corporaci\\u00f3n Municipal   Competencias   Reglamento Org\\u00e1nico   Actas   \\u00d3rdenes del dia   Ordenanzas, Reglamentos y Bandos     \\u00c1reas Municipales                 Servicios Municipales                        Servicios   Movilidad y Seguridad Ciudadana   Archivo Municipal y Bibliotecas   Urbanismo   Empleo y Desarrollo   Infraestructuras y Servicios P\\u00fablicos   Vivienda     Ciudadan\\u00eda   Empadronamiento   Servicios Sociales   Participaci\\u00f3n Ciudadana   Atenci\\u00f3n a la Ciudadan\\u00eda   Cultura en los Barrios   Juventud     Ciudad   Transporte P\\u00fablico   Comercio y Ocio   Playa Espig\\u00f3n y Marismas del Odiel   Cultura   Deportes   Medio Ambiente     Interior   Tabl\\u00f3n Edictos   Consulta P\\u00fablica   Acceso informaci\\u00f3n   Comisi\\u00f3n Antifraude   Procedimientos Selectivos   Registro General                  Buscador T\\u00e9rmino a buscar  Buscar             Inicio Formularios            Formularios                 \\u00a0 Modelo 1.0\\u00a0 Inscripci\\u00f3n en un domicilio de Huelva, procedente de otro municipio de Espa\\u00f1a o del extranjero o de otro domicilio de Huelva as\\u00ed como Alta por Nacimiento. \\u00a0 Modelo 2.0\\u00a0 Baja por Inscripci\\u00f3n Indebida \\u00a0 Modelo 2.1\\u00a0 Baja por Defunci\\u00f3n \\u00a0 Modelo 3.4\\u00a0 Modificaci\\u00f3n y/o Inclusi\\u00f3n de Datos Personales en el Padr\\u00f3n \\u00a0 Modelo 4.1\\u00a0 Solicitud de Certificados de empadronamiento Hist\\u00f3ricos (si han estado empadronados/as en Huelva o si lo est\\u00e1n, referidos a per\\u00edodos anteriores al del \\u00faltimo domicilio). \\u00a0 Modelo 4.2\\u00a0 Solicitud de Certificado de Correspondencia de Domicilio \\u00a0 Modelo 4.3\\u00a0 Autorizaci\\u00f3n para que una tercera persona retire certificados de su inscripci\\u00f3n en el Padr\\u00f3n de Habitantes \\u00a0 Modelo 5.0\\u00a0 Renovaci\\u00f3n de Inscripci\\u00f3n Padronal (Solo para extranjeros/as NO COMUNITARIOS/AS sin residencia permanente) \\u00a0 Modelo 6.0\\u00a0 Declaraci\\u00f3n para inscribir menores con un/a solo/a progenitor/a \\u00a0 Modelo 6.1\\u00a0 Autorizaci\\u00f3n del/de la progenitor/a no conviviente al/a la progenitor/a conviviente para inscribir a un/a menor que se va a empadronar con uno solo de ellos/as \\u00a0 Modelo Consentimiento Datos\\u00a0 Consentimiento para la expedici\\u00f3n de certificados colectivos en el Padr\\u00f3n \\u00a0 \\u00a0 Modelo oficial INE. Reclamaci\\u00f3n\\u00a0\\u00a0 Reclamaci\\u00f3n al censo electoral de residentes en Espa\\u00f1a \\u00a0 Modelo oficial INE - U.E.\\u00a0 Declaraci\\u00f3n formal de intenci\\u00f3n de voto (Ciudadanos/as de la Uni\\u00f3n Europea, no espa\\u00f1oles/as,\\u00a0residentes en Espa\\u00f1a) \\u00a0 Modelo oficial INE. Pa\\u00edses acuerdos\\u00a0 Declaraci\\u00f3n formal de intenci\\u00f3n de voto (Residentes en Espa\\u00f1a nacionales de Pa\\u00edses con\\u00a0Acuerdos para las elecciones municipales)                         Aviso LegalPrivacidadProtecci\\u00f3n de datosMapa web    S\\u00edguenos en  _ _ _ _ _ _ _         Servicios Urbanismo Medio Ambiente Seguridad Econom\\u00eda y Hacienda         Ciudad Cultura Archivo y Bibliotecas Mercados Tr\\u00e1fico Infraestructuras y Servicios P\\u00fablicos          Ciudadano Igualdad Servicios Sociales Vivienda                \\u00a9 2024 Copyright          Ayuntamiento de Huelva.    Plaza de la Constituci\\u00f3n,    s/n 21003 (Huelva)  Tlfno.  959 210 576     Ir arriba         \",\n          \"              El Pleno   Ayuntamiento de Huelva                                     Saltar al contenido principal       Toggle navigation                Ayuntamiento   Servicios Municipales   Sede Electr\\u00f3nica   Turismo   Formularios        telefonos    buzon                                      Ayuntamiento                        Alcaldesa   El Pleno   Corporaci\\u00f3n Municipal   Competencias   Reglamento Org\\u00e1nico   Actas   \\u00d3rdenes del dia   Ordenanzas, Reglamentos y Bandos     \\u00c1reas Municipales                 Servicios Municipales                        Servicios   Movilidad y Seguridad Ciudadana   Archivo Municipal y Bibliotecas   Urbanismo   Empleo y Desarrollo   Infraestructuras y Servicios P\\u00fablicos   Vivienda     Ciudadan\\u00eda   Empadronamiento   Servicios Sociales   Participaci\\u00f3n Ciudadana   Atenci\\u00f3n a la Ciudadan\\u00eda   Cultura en los Barrios   Juventud     Ciudad   Transporte P\\u00fablico   Comercio y Ocio   Playa Espig\\u00f3n y Marismas del Odiel   Cultura   Deportes   Medio Ambiente     Interior   Tabl\\u00f3n Edictos   Consulta P\\u00fablica   Acceso informaci\\u00f3n   Comisi\\u00f3n Antifraude   Procedimientos Selectivos   Registro General                  Buscador T\\u00e9rmino a buscar  Buscar               Inicio Ayuntamiento El Pleno         El Pleno               \\u00a0 El Pleno, de conformidad con lo establecido en el art\\u00edculo 122 de la Ley Reguladora de las Bases del R\\u00e9gimen local, est\\u00e1 formado por el Alcalde y los Concejales y es el \\u00f3rgano de m\\u00e1xima representaci\\u00f3n pol\\u00edtica de los ciudadanos en el gobierno municipal. Cuenta con un Secretario General perteneciente a la Escala de Funcionarios de Administraci\\u00f3n Local con Habilitaci\\u00f3n Estatal y ejerce sus funciones mediante sesiones plenarias ordinarias mensuales o extraordinarias. \\u00a0 El Pleno es el \\u00f3rgano de debate de las grandes pol\\u00edticas locales que afectan al municipio y entre sus competencias m\\u00e1s importantes se encuentran la aprobaci\\u00f3n de los presupuestos anuales, del planeamiento urban\\u00edstico y las ordenanzas y reglamentos municipales.              Corporaci\\u00f3n Municipal          Reglamento Org\\u00e1nico          Competencias          Comisiones          Listado de Actas          \\u00d3rdenes del D\\u00eda                       Aviso LegalPrivacidadProtecci\\u00f3n de datosMapa web    S\\u00edguenos en  _ _ _ _ _ _ _         Servicios Urbanismo Medio Ambiente Seguridad Econom\\u00eda y Hacienda         Ciudad Cultura Archivo y Bibliotecas Mercados Tr\\u00e1fico Infraestructuras y Servicios P\\u00fablicos          Ciudadano Igualdad Servicios Sociales Vivienda                \\u00a9 2024 Copyright          Ayuntamiento de Huelva.    Plaza de la Constituci\\u00f3n,    s/n 21003 (Huelva)  Tlfno.  959 210 576     Ir arriba         \",\n          \"              \\u00bfTe podemos ayudar?   Ayuntamiento de Huelva                                       Saltar al contenido principal        Toggle navigation                Ayuntamiento   Servicios Municipales   Sede Electr\\u00f3nica   Turismo   Formularios        telefonos    buzon                                      Ayuntamiento                        Alcaldesa   El Pleno   Corporaci\\u00f3n Municipal   Competencias   Reglamento Org\\u00e1nico   Actas   \\u00d3rdenes del dia   Ordenanzas, Reglamentos y Bandos     \\u00c1reas Municipales                 Servicios Municipales                        Servicios   Movilidad y Seguridad Ciudadana   Archivo Municipal y Bibliotecas   Urbanismo   Empleo y Desarrollo   Infraestructuras y Servicios P\\u00fablicos   Vivienda     Ciudadan\\u00eda   Empadronamiento   Servicios Sociales   Participaci\\u00f3n Ciudadana   Atenci\\u00f3n a la Ciudadan\\u00eda   Cultura en los Barrios   Juventud     Ciudad   Transporte P\\u00fablico   Comercio y Ocio   Playa Espig\\u00f3n y Marismas del Odiel   Cultura   Deportes   Medio Ambiente     Interior   Tabl\\u00f3n Edictos   Consulta P\\u00fablica   Acceso informaci\\u00f3n   Comisi\\u00f3n Antifraude   Procedimientos Selectivos   Registro General                  Buscador T\\u00e9rmino a buscar  Buscar             Inicio \\u00bfTe podemos ayudar?            \\u00bfTe podemos ayudar? Contacto Ayto. Huelva         Puedes contactar con el Ayuntamiento, cumplimentando el siguiente formulario\\u00a0y pulsando en el bot\\u00f3n Aceptar. Es importante que se indique correctamente su nombre y direcci\\u00f3n de correo electr\\u00f3nico para que podamos responderle.       * Campos obligatorios.   De conformidad con lo establecido en la normativa vigente en materia de protecci\\u00f3n de datos, le informamos que sus datos ser\\u00e1n tratados por Ayuntamiento de Huelva con el fin de atender las solicitudes que nos formule. Usted tiene derecho a acceder a sus datos personales; solicitar la rectificaci\\u00f3n de los datos inexactos; solicitar su supresi\\u00f3n; oponerse o limitar el tratamiento; o solicitar la portabilidad de sus datos. Para poder ejercer estos derechos puede ponerse en contacto por escrito adjuntando una copia de su DNI o documentaci\\u00f3n que el identifique en la siguiente direcci\\u00f3n: Plaza de la Constituci\\u00f3n, s/n, 21003, Huelva o por correo electr\\u00f3nico a dpd@huelva.es, as\\u00ed como a presentar una reclamaci\\u00f3n ante la Agencia Espa\\u00f1ola de Protecci\\u00f3n de Datos y al Consejo de Transparencia y Protecci\\u00f3n de Datos de Andaluc\\u00eda, en caso de considerar que Ayuntamiento de Huelva haya podido vulnerar la atenci\\u00f3n de sus derechos. Puede obtener informaci\\u00f3n adicional y detallada, sobre la protecci\\u00f3n de datos de car\\u00e1cter personal en Ayuntamiento de Huelva, en la p\\u00e1gina web www.huelva.es o en el siguiente correo electr\\u00f3nico dpd@huelva.es.        Nombre *      Email *      Tel\\u00e9fono       Asunto * - Seleccionar -UrbanismoAlcald\\u00edaMayoresArchivo MunicipalOtro     Contactar conmigo por  EmailCorreo ordinarioTel\\u00e9fono     Mensaje *                        CAPTCHA                    Esta pregunta es para comprobar si es usted o no una persona real e impedir el envio automatizado de mensajes.          \\u00bf El resultado de dos m\\u00e1s tres es ?  uno, cuatro, siete, cinco, seis *  Escriba su respuesta.    Enviar                   Aviso LegalPrivacidadProtecci\\u00f3n de datosMapa web    S\\u00edguenos en  _ _ _ _ _ _ _         Servicios Urbanismo Medio Ambiente Seguridad Econom\\u00eda y Hacienda         Ciudad Cultura Archivo y Bibliotecas Mercados Tr\\u00e1fico Infraestructuras y Servicios P\\u00fablicos          Ciudadano Igualdad Servicios Sociales Vivienda                \\u00a9 2024 Copyright          Ayuntamiento de Huelva.    Plaza de la Constituci\\u00f3n,    s/n 21003 (Huelva)  Tlfno.  959 210 576     Ir arriba         \"\n        ],\n        \"semantic_type\": \"\",\n        \"description\": \"\"\n      }\n    },\n    {\n      \"column\": \"num oraciones\",\n      \"properties\": {\n        \"dtype\": \"number\",\n        \"std\": 4,\n        \"min\": 6,\n        \"max\": 17,\n        \"num_unique_values\": 5,\n        \"samples\": [\n          16,\n          6,\n          17\n        ],\n        \"semantic_type\": \"\",\n        \"description\": \"\"\n      }\n    },\n    {\n      \"column\": \"num palabras\",\n      \"properties\": {\n        \"dtype\": \"number\",\n        \"std\": 48,\n        \"min\": 293,\n        \"max\": 436,\n        \"num_unique_values\": 5,\n        \"samples\": [\n          388,\n          293,\n          436\n        ],\n        \"semantic_type\": \"\",\n        \"description\": \"\"\n      }\n    },\n    {\n      \"column\": \"palabras/oraci\\u00f3n\",\n      \"properties\": {\n        \"dtype\": \"number\",\n        \"std\": 10.41248954395621,\n        \"min\": 24.25,\n        \"max\": 48.833333333333336,\n        \"num_unique_values\": 5,\n        \"samples\": [\n          24.25,\n          48.833333333333336,\n          25.647058823529413\n        ],\n        \"semantic_type\": \"\",\n        \"description\": \"\"\n      }\n    },\n    {\n      \"column\": \"fdz huerta\",\n      \"properties\": {\n        \"dtype\": \"number\",\n        \"std\": 10.7867655022254,\n        \"min\": 37.06,\n        \"max\": 66.73,\n        \"num_unique_values\": 5,\n        \"samples\": [\n          62.05,\n          37.06,\n          66.73\n        ],\n        \"semantic_type\": \"\",\n        \"description\": \"\"\n      }\n    },\n    {\n      \"column\": \"tiempo lectura\",\n      \"properties\": {\n        \"dtype\": \"number\",\n        \"std\": 3.9644419531631443,\n        \"min\": 27.32,\n        \"max\": 39.38,\n        \"num_unique_values\": 5,\n        \"samples\": [\n          36.21,\n          27.32,\n          39.38\n        ],\n        \"semantic_type\": \"\",\n        \"description\": \"\"\n      }\n    }\n  ]\n}"
            }
          },
          "metadata": {},
          "execution_count": 78
        }
      ]
    },
    {
      "cell_type": "code",
      "metadata": {
        "source_hash": null,
        "execution_start": 1699305057149,
        "execution_millis": 6,
        "deepnote_app_coordinates": {
          "h": 5,
          "w": 12,
          "x": 0,
          "y": 0
        },
        "deepnote_to_be_reexecuted": false,
        "deepnote_app_is_code_hidden": false,
        "cell_id": "db6638f8d8a04d8d926067d7a6d92f14",
        "deepnote_cell_type": "code",
        "id": "2GmLOPE1dOWe",
        "outputId": "021e4a93-2977-4eb3-b2ad-4c1d39180ca5",
        "colab": {
          "base_uri": "https://localhost:8080/",
          "height": 447
        }
      },
      "source": [
        "df['fdz huerta'].hist()"
      ],
      "execution_count": null,
      "outputs": [
        {
          "output_type": "execute_result",
          "data": {
            "text/plain": [
              "<Axes: >"
            ]
          },
          "metadata": {},
          "execution_count": 79
        },
        {
          "output_type": "display_data",
          "data": {
            "text/plain": [
              "<Figure size 640x480 with 1 Axes>"
            ],
            "image/png": "[encoded data removed]"
          },
          "metadata": {}
        }
      ]
    },
    {
      "cell_type": "markdown",
      "metadata": {
        "formattedRanges": [],
        "deepnote_app_coordinates": {
          "h": 2,
          "w": 8,
          "x": 0,
          "y": 0
        },
        "cell_id": "fc28daf2ed5141b7a27a0d652614625d",
        "deepnote_cell_type": "text-cell-p",
        "id": "ve5ACKIMdOWe"
      },
      "source": []
    },
    {
      "cell_type": "code",
      "metadata": {
        "source_hash": null,
        "execution_start": 1699302774298,
        "execution_millis": 512,
        "deepnote_app_coordinates": {
          "h": 5,
          "w": 12,
          "x": 0,
          "y": 0
        },
        "deepnote_to_be_reexecuted": false,
        "deepnote_app_is_code_hidden": false,
        "cell_id": "fe46edd5720141bba222134a046472d7",
        "deepnote_cell_type": "code",
        "id": "FCu17xBIdOWe"
      },
      "source": [
        "#Guardamos la tabla en un fichero csv\n",
        "df.to_csv(\"AyuntamientoHuelva.csv\")"
      ],
      "execution_count": null,
      "outputs": []
    },
    {
      "cell_type": "code",
      "metadata": {
        "source_hash": null,
        "execution_start": 1699304096498,
        "execution_millis": 10,
        "deepnote_app_coordinates": {
          "h": 5,
          "w": 12,
          "x": 0,
          "y": 0
        },
        "deepnote_to_be_reexecuted": false,
        "cell_id": "40231211802f426e9380f8678dbbbf1d",
        "deepnote_cell_type": "code",
        "id": "yL-P4iozdOWe",
        "outputId": "b6351dde-caef-4899-f990-9e7aa1d185ac",
        "colab": {
          "base_uri": "https://localhost:8080/"
        }
      },
      "source": [
        "print ('media de oraciones por archivo:')\n",
        "print (round (df['num oraciones'].mean(),0))\n",
        "print ('media de nivel de lectura:')\n",
        "print(round(df['fdz huerta'].mean(), 0))\n",
        "print ('media de tiempo de lectura (segundos):')\n",
        "print(round(df['tiempo lectura'].mean(), 0))\n",
        "\n"
      ],
      "execution_count": null,
      "outputs": [
        {
          "output_type": "stream",
          "name": "stdout",
          "text": [
            "media de oraciones por archivo:\n",
            "11.0\n",
            "media de nivel de lectura:\n",
            "52.0\n",
            "media de tiempo de lectura (segundos):\n",
            "34.0\n"
          ]
        }
      ]
    },
    {
      "cell_type": "code",
      "metadata": {
        "source_hash": null,
        "execution_start": 1699304603443,
        "execution_millis": 501,
        "deepnote_app_coordinates": {
          "h": 5,
          "w": 12,
          "x": 0,
          "y": 0
        },
        "deepnote_to_be_reexecuted": false,
        "cell_id": "1445f30750424bbf9911418dc39b9b9a",
        "deepnote_cell_type": "code",
        "id": "R0ew174ZdOWf",
        "outputId": "6336e991-7961-48fe-c8dc-0fc21e5dcb7e",
        "colab": {
          "base_uri": "https://localhost:8080/",
          "height": 447
        }
      },
      "source": [
        "df['fdz huerta'].plot.bar()"
      ],
      "execution_count": null,
      "outputs": [
        {
          "output_type": "execute_result",
          "data": {
            "text/plain": [
              "<Axes: >"
            ]
          },
          "metadata": {},
          "execution_count": 82
        },
        {
          "output_type": "display_data",
          "data": {
            "text/plain": [
              "<Figure size 640x480 with 1 Axes>"
            ],
            "image/png": "[encoded data removed]"
          },
          "metadata": {}
        }
      ]
    },
    {
      "cell_type": "markdown",
      "metadata": {
        "formattedRanges": [],
        "deepnote_app_coordinates": {
          "h": 2,
          "w": 8,
          "x": 0,
          "y": 0
        },
        "cell_id": "a9c1894b87d947e288ce2a0d3918e34e",
        "deepnote_cell_type": "text-cell-p",
        "id": "e6OpBYqSdOWf"
      },
      "source": []
    },
    {
      "cell_type": "markdown",
      "source": [
        "<a style='text-decoration:none;line-height:16px;display:flex;color:#5B5B62;padding:10px;justify-content:end;' href='https://deepnote.com?utm_source=created-in-deepnote-cell&projectId=a2326c74-8155-424a-a9ea-889ef1bb8e18' target=\"_blank\">\n",
        "<img alt='Created in deepnote.com' style='display:inline;max-height:16px;margin:0px;margin-right:7.5px;' src='data:image/svg+xml;base64,PD94bWwgdmVyc2lvbj0iMS4wIiBlbmNvZGluZz0iVVRGLTgiPz4KPHN2ZyB3aWR0aD0iODBweCIgaGVpZ2h0PSI4MHB4IiB2aWV3Qm94PSIwIDAgODAgODAiIHZlcnNpb249IjEuMSIgeG1sbnM9Imh0dHA6Ly93d3cudzMub3JnLzIwMDAvc3ZnIiB4bWxuczp4bGluaz0iaHR0cDovL3d3dy53My5vcmcvMTk5OS94bGluayI+CiAgICA8IS0tIEdlbmVyYXRvcjogU2tldGNoIDU0LjEgKDc2NDkwKSAtIGh0dHBzOi8vc2tldGNoYXBwLmNvbSAtLT4KICAgIDx0aXRsZT5Hcm91cCAzPC90aXRsZT4KICAgIDxkZXNjPkNyZWF0ZWQgd2l0aCBTa2V0Y2guPC9kZXNjPgogICAgPGcgaWQ9IkxhbmRpbmciIHN0cm9rZT0ibm9uZSIgc3Ryb2tlLXdpZHRoPSIxIiBmaWxsPSJub25lIiBmaWxsLXJ1bGU9ImV2ZW5vZGQiPgogICAgICAgIDxnIGlkPSJBcnRib2FyZCIgdHJhbnNmb3JtPSJ0cmFuc2xhdGUoLTEyMzUuMDAwMDAwLCAtNzkuMDAwMDAwKSI+CiAgICAgICAgICAgIDxnIGlkPSJHcm91cC0zIiB0cmFuc2Zvcm09InRyYW5zbGF0ZSgxMjM1LjAwMDAwMCwgNzkuMDAwMDAwKSI+CiAgICAgICAgICAgICAgICA8cG9seWdvbiBpZD0iUGF0aC0yMCIgZmlsbD0iIzAyNjVCNCIgcG9pbnRzPSIyLjM3NjIzNzYyIDgwIDM4LjA0NzY2NjcgODAgNTcuODIxNzgyMiA3My44MDU3NTkyIDU3LjgyMTc4MjIgMzIuNzU5MjczOSAzOS4xNDAyMjc4IDMxLjY4MzE2ODMiPjwvcG9seWdvbj4KICAgICAgICAgICAgICAgIDxwYXRoIGQ9Ik0zNS4wMDc3MTgsODAgQzQyLjkwNjIwMDcsNzYuNDU0OTM1OCA0Ny41NjQ5MTY3LDcxLjU0MjI2NzEgNDguOTgzODY2LDY1LjI2MTk5MzkgQzUxLjExMjI4OTksNTUuODQxNTg0MiA0MS42NzcxNzk1LDQ5LjIxMjIyODQgMjUuNjIzOTg0Niw0OS4yMTIyMjg0IEMyNS40ODQ5Mjg5LDQ5LjEyNjg0NDggMjkuODI2MTI5Niw0My4yODM4MjQ4IDM4LjY0NzU4NjksMzEuNjgzMTY4MyBMNzIuODcxMjg3MSwzMi41NTQ0MjUgTDY1LjI4MDk3Myw2Ny42NzYzNDIxIEw1MS4xMTIyODk5LDc3LjM3NjE0NCBMMzUuMDA3NzE4LDgwIFoiIGlkPSJQYXRoLTIyIiBmaWxsPSIjMDAyODY4Ij48L3BhdGg+CiAgICAgICAgICAgICAgICA8cGF0aCBkPSJNMCwzNy43MzA0NDA1IEwyNy4xMTQ1MzcsMC4yNTcxMTE0MzYgQzYyLjM3MTUxMjMsLTEuOTkwNzE3MDEgODAsMTAuNTAwMzkyNyA4MCwzNy43MzA0NDA1IEM4MCw2NC45NjA0ODgyIDY0Ljc3NjUwMzgsNzkuMDUwMzQxNCAzNC4zMjk1MTEzLDgwIEM0Ny4wNTUzNDg5LDc3LjU2NzA4MDggNTMuNDE4MjY3Nyw3MC4zMTM2MTAzIDUzLjQxODI2NzcsNTguMjM5NTg4NSBDNTMuNDE4MjY3Nyw0MC4xMjg1NTU3IDM2LjMwMzk1NDQsMzcuNzMwNDQwNSAyNS4yMjc0MTcsMzcuNzMwNDQwNSBDMTcuODQzMDU4NiwzNy43MzA0NDA1IDkuNDMzOTE5NjYsMzcuNzMwNDQwNSAwLDM3LjczMDQ0MDUgWiIgaWQ9IlBhdGgtMTkiIGZpbGw9IiMzNzkzRUYiPjwvcGF0aD4KICAgICAgICAgICAgPC9nPgogICAgICAgIDwvZz4KICAgIDwvZz4KPC9zdmc+' > </img>\n",
        "Created in <span style='font-weight:600;margin-left:4px;'>Deepnote</span></a>"
      ],
      "metadata": {
        "created_in_deepnote_cell": true,
        "deepnote_cell_type": "markdown",
        "id": "EQfA4q2NdOWf"
      }
    }
  ],
  "nbformat": 4,
  "nbformat_minor": 0,
  "metadata": {
    "deepnote": {},
    "orig_nbformat": 2,
    "deepnote_app_width": "full-width",
    "deepnote_app_layout": "powerful-article",
    "deepnote_notebook_id": "aff54e8cc33b4635b8a92b7b8452c439",
    "deepnote_app_table_of_contents_enabled": true,
    "deepnote_app_hide_all_code_blocks_enabled": false,
    "deepnote_execution_queue": [],
    "colab": {
      "provenance": [],
      "include_colab_link": true
    },
    "language_info": {
      "name": "python"
    },
    "kernelspec": {
      "name": "python3",
      "display_name": "Python 3"
    }
  }
}